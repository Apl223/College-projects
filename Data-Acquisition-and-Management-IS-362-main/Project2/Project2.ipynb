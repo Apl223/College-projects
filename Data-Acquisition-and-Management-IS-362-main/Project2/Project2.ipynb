{
 "cells": [
  {
   "cell_type": "code",
   "execution_count": 99,
   "id": "d95d2e76",
   "metadata": {},
   "outputs": [
    {
     "data": {
      "text/html": [
       "<div>\n",
       "<style scoped>\n",
       "    .dataframe tbody tr th:only-of-type {\n",
       "        vertical-align: middle;\n",
       "    }\n",
       "\n",
       "    .dataframe tbody tr th {\n",
       "        vertical-align: top;\n",
       "    }\n",
       "\n",
       "    .dataframe thead th {\n",
       "        text-align: right;\n",
       "    }\n",
       "</style>\n",
       "<table border=\"1\" class=\"dataframe\">\n",
       "  <thead>\n",
       "    <tr style=\"text-align: right;\">\n",
       "      <th></th>\n",
       "      <th>id</th>\n",
       "      <th>name</th>\n",
       "      <th>phone</th>\n",
       "      <th>sex_and_age</th>\n",
       "      <th>test number</th>\n",
       "      <th>term 1</th>\n",
       "      <th>term 2</th>\n",
       "      <th>term 3</th>\n",
       "    </tr>\n",
       "  </thead>\n",
       "  <tbody>\n",
       "    <tr>\n",
       "      <th>0</th>\n",
       "      <td>1</td>\n",
       "      <td>Mike</td>\n",
       "      <td>134</td>\n",
       "      <td>m_12</td>\n",
       "      <td>test 1</td>\n",
       "      <td>76</td>\n",
       "      <td>84</td>\n",
       "      <td>87</td>\n",
       "    </tr>\n",
       "    <tr>\n",
       "      <th>1</th>\n",
       "      <td>2</td>\n",
       "      <td>Linda</td>\n",
       "      <td>270</td>\n",
       "      <td>f_13</td>\n",
       "      <td>test 1</td>\n",
       "      <td>88</td>\n",
       "      <td>90</td>\n",
       "      <td>73</td>\n",
       "    </tr>\n",
       "    <tr>\n",
       "      <th>2</th>\n",
       "      <td>3</td>\n",
       "      <td>Sam</td>\n",
       "      <td>210</td>\n",
       "      <td>m_11</td>\n",
       "      <td>test 1</td>\n",
       "      <td>78</td>\n",
       "      <td>74</td>\n",
       "      <td>80</td>\n",
       "    </tr>\n",
       "    <tr>\n",
       "      <th>3</th>\n",
       "      <td>4</td>\n",
       "      <td>Esther</td>\n",
       "      <td>617</td>\n",
       "      <td>f_12</td>\n",
       "      <td>test 1</td>\n",
       "      <td>68</td>\n",
       "      <td>75</td>\n",
       "      <td>74</td>\n",
       "    </tr>\n",
       "    <tr>\n",
       "      <th>4</th>\n",
       "      <td>5</td>\n",
       "      <td>Mary</td>\n",
       "      <td>114</td>\n",
       "      <td>f_14</td>\n",
       "      <td>test 1</td>\n",
       "      <td>65</td>\n",
       "      <td>67</td>\n",
       "      <td>64</td>\n",
       "    </tr>\n",
       "  </tbody>\n",
       "</table>\n",
       "</div>"
      ],
      "text/plain": [
       "   id    name  phone sex_and_age test number  term 1  term 2  term 3\n",
       "0   1    Mike    134        m_12      test 1      76      84      87\n",
       "1   2   Linda    270        f_13      test 1      88      90      73\n",
       "2   3     Sam    210        m_11      test 1      78      74      80\n",
       "3   4  Esther    617        f_12      test 1      68      75      74\n",
       "4   5    Mary    114        f_14      test 1      65      67      64"
      ]
     },
     "execution_count": 99,
     "metadata": {},
     "output_type": "execute_result"
    }
   ],
   "source": [
    "import pandas as pd\n",
    "from pandas import *\n",
    "from IPython.display import Markdown as md\n",
    "dataset = pd.read_csv(\"C:/Users/rain/Desktop/untidy.csv\")\n",
    "dataset.head()"
   ]
  },
  {
   "cell_type": "code",
   "execution_count": 100,
   "id": "525f852c",
   "metadata": {},
   "outputs": [
    {
     "data": {
      "text/html": [
       "<div>\n",
       "<style scoped>\n",
       "    .dataframe tbody tr th:only-of-type {\n",
       "        vertical-align: middle;\n",
       "    }\n",
       "\n",
       "    .dataframe tbody tr th {\n",
       "        vertical-align: top;\n",
       "    }\n",
       "\n",
       "    .dataframe thead th {\n",
       "        text-align: right;\n",
       "    }\n",
       "</style>\n",
       "<table border=\"1\" class=\"dataframe\">\n",
       "  <thead>\n",
       "    <tr style=\"text-align: right;\">\n",
       "      <th></th>\n",
       "      <th>id</th>\n",
       "      <th>name</th>\n",
       "      <th>phone</th>\n",
       "      <th>test number</th>\n",
       "      <th>term 1</th>\n",
       "      <th>term 2</th>\n",
       "      <th>term 3</th>\n",
       "      <th>Sex</th>\n",
       "      <th>Age</th>\n",
       "    </tr>\n",
       "  </thead>\n",
       "  <tbody>\n",
       "    <tr>\n",
       "      <th>0</th>\n",
       "      <td>1</td>\n",
       "      <td>Mike</td>\n",
       "      <td>134</td>\n",
       "      <td>test 1</td>\n",
       "      <td>76</td>\n",
       "      <td>84</td>\n",
       "      <td>87</td>\n",
       "      <td>m</td>\n",
       "      <td>12</td>\n",
       "    </tr>\n",
       "    <tr>\n",
       "      <th>1</th>\n",
       "      <td>2</td>\n",
       "      <td>Linda</td>\n",
       "      <td>270</td>\n",
       "      <td>test 1</td>\n",
       "      <td>88</td>\n",
       "      <td>90</td>\n",
       "      <td>73</td>\n",
       "      <td>f</td>\n",
       "      <td>13</td>\n",
       "    </tr>\n",
       "    <tr>\n",
       "      <th>2</th>\n",
       "      <td>3</td>\n",
       "      <td>Sam</td>\n",
       "      <td>210</td>\n",
       "      <td>test 1</td>\n",
       "      <td>78</td>\n",
       "      <td>74</td>\n",
       "      <td>80</td>\n",
       "      <td>m</td>\n",
       "      <td>11</td>\n",
       "    </tr>\n",
       "    <tr>\n",
       "      <th>3</th>\n",
       "      <td>4</td>\n",
       "      <td>Esther</td>\n",
       "      <td>617</td>\n",
       "      <td>test 1</td>\n",
       "      <td>68</td>\n",
       "      <td>75</td>\n",
       "      <td>74</td>\n",
       "      <td>f</td>\n",
       "      <td>12</td>\n",
       "    </tr>\n",
       "    <tr>\n",
       "      <th>4</th>\n",
       "      <td>5</td>\n",
       "      <td>Mary</td>\n",
       "      <td>114</td>\n",
       "      <td>test 1</td>\n",
       "      <td>65</td>\n",
       "      <td>67</td>\n",
       "      <td>64</td>\n",
       "      <td>f</td>\n",
       "      <td>14</td>\n",
       "    </tr>\n",
       "    <tr>\n",
       "      <th>5</th>\n",
       "      <td>1</td>\n",
       "      <td>Mike</td>\n",
       "      <td>134</td>\n",
       "      <td>test 2</td>\n",
       "      <td>85</td>\n",
       "      <td>80</td>\n",
       "      <td>90</td>\n",
       "      <td>m</td>\n",
       "      <td>12</td>\n",
       "    </tr>\n",
       "    <tr>\n",
       "      <th>6</th>\n",
       "      <td>2</td>\n",
       "      <td>Linda</td>\n",
       "      <td>270</td>\n",
       "      <td>test 2</td>\n",
       "      <td>87</td>\n",
       "      <td>82</td>\n",
       "      <td>94</td>\n",
       "      <td>f</td>\n",
       "      <td>13</td>\n",
       "    </tr>\n",
       "    <tr>\n",
       "      <th>7</th>\n",
       "      <td>3</td>\n",
       "      <td>Sam</td>\n",
       "      <td>210</td>\n",
       "      <td>test 2</td>\n",
       "      <td>80</td>\n",
       "      <td>87</td>\n",
       "      <td>80</td>\n",
       "      <td>m</td>\n",
       "      <td>11</td>\n",
       "    </tr>\n",
       "    <tr>\n",
       "      <th>8</th>\n",
       "      <td>4</td>\n",
       "      <td>Esther</td>\n",
       "      <td>617</td>\n",
       "      <td>test 2</td>\n",
       "      <td>70</td>\n",
       "      <td>75</td>\n",
       "      <td>78</td>\n",
       "      <td>f</td>\n",
       "      <td>12</td>\n",
       "    </tr>\n",
       "    <tr>\n",
       "      <th>9</th>\n",
       "      <td>5</td>\n",
       "      <td>Mary</td>\n",
       "      <td>114</td>\n",
       "      <td>test 2</td>\n",
       "      <td>68</td>\n",
       "      <td>70</td>\n",
       "      <td>63</td>\n",
       "      <td>f</td>\n",
       "      <td>14</td>\n",
       "    </tr>\n",
       "  </tbody>\n",
       "</table>\n",
       "</div>"
      ],
      "text/plain": [
       "   id    name  phone test number  term 1  term 2  term 3 Sex Age\n",
       "0   1    Mike    134      test 1      76      84      87   m  12\n",
       "1   2   Linda    270      test 1      88      90      73   f  13\n",
       "2   3     Sam    210      test 1      78      74      80   m  11\n",
       "3   4  Esther    617      test 1      68      75      74   f  12\n",
       "4   5    Mary    114      test 1      65      67      64   f  14\n",
       "5   1    Mike    134      test 2      85      80      90   m  12\n",
       "6   2   Linda    270      test 2      87      82      94   f  13\n",
       "7   3     Sam    210      test 2      80      87      80   m  11\n",
       "8   4  Esther    617      test 2      70      75      78   f  12\n",
       "9   5    Mary    114      test 2      68      70      63   f  14"
      ]
     },
     "execution_count": 100,
     "metadata": {},
     "output_type": "execute_result"
    }
   ],
   "source": [
    "dataset = pd.read_csv(\"C:/Users/rain/Desktop/untidy.csv\")\n",
    "#No need to have column that combines sex and age, this should be split into their own columns.\n",
    "dataset[['Sex','Age']] = dataset.sex_and_age.str.split(\"_\",expand=True)\n",
    "#Had to rename 'sex and age' to sex_and_age so that the and operator doesn't get confused with the column name.\n",
    "dataset = dataset.drop('sex_and_age', 1)\n",
    "dataset"
   ]
  },
  {
   "cell_type": "code",
   "execution_count": 101,
   "id": "522e01c5",
   "metadata": {
    "scrolled": true
   },
   "outputs": [
    {
     "data": {
      "text/plain": [
       "0    85.0\n",
       "1    85.0\n",
       "2    85.0\n",
       "3    85.0\n",
       "4    85.0\n",
       "5    85.0\n",
       "6    85.0\n",
       "7    85.0\n",
       "8    85.0\n",
       "9    85.0\n",
       "Name: Average, dtype: float64"
      ]
     },
     "execution_count": 101,
     "metadata": {},
     "output_type": "execute_result"
    }
   ],
   "source": [
    "dataset['Total1_scores'] = dataset['term 1'].sum()\n",
    "dataset['Total2_scores'] = dataset['term 2'].sum()\n",
    "dataset['Total3_scores'] = dataset['term 3'].sum()\n",
    "dataset['Average'] = (dataset['Total1_scores'] / 9)\n",
    "dataset['Average2'] = (dataset['Total2_scores'] / 9)\n",
    "dataset['Average3'] = (dataset['Total3_scores'] / 9)\n",
    "dataset['Average']\n"
   ]
  },
  {
   "cell_type": "code",
   "execution_count": 102,
   "id": "38c29862",
   "metadata": {},
   "outputs": [
    {
     "data": {
      "text/plain": [
       "0    87.111111\n",
       "1    87.111111\n",
       "2    87.111111\n",
       "3    87.111111\n",
       "4    87.111111\n",
       "5    87.111111\n",
       "6    87.111111\n",
       "7    87.111111\n",
       "8    87.111111\n",
       "9    87.111111\n",
       "Name: Average2, dtype: float64"
      ]
     },
     "execution_count": 102,
     "metadata": {},
     "output_type": "execute_result"
    }
   ],
   "source": [
    "dataset['Average2']"
   ]
  },
  {
   "cell_type": "code",
   "execution_count": 103,
   "id": "5348de11",
   "metadata": {},
   "outputs": [
    {
     "data": {
      "text/plain": [
       "0    87.0\n",
       "1    87.0\n",
       "2    87.0\n",
       "3    87.0\n",
       "4    87.0\n",
       "5    87.0\n",
       "6    87.0\n",
       "7    87.0\n",
       "8    87.0\n",
       "9    87.0\n",
       "Name: Average3, dtype: float64"
      ]
     },
     "execution_count": 103,
     "metadata": {},
     "output_type": "execute_result"
    }
   ],
   "source": [
    "dataset['Average3']"
   ]
  },
  {
   "cell_type": "code",
   "execution_count": 104,
   "id": "74fb3a09",
   "metadata": {},
   "outputs": [
    {
     "data": {
      "text/plain": [
       "0    765\n",
       "1    765\n",
       "2    765\n",
       "3    765\n",
       "4    765\n",
       "5    765\n",
       "6    765\n",
       "7    765\n",
       "8    765\n",
       "9    765\n",
       "Name: Total1_scores, dtype: int64"
      ]
     },
     "execution_count": 104,
     "metadata": {},
     "output_type": "execute_result"
    }
   ],
   "source": [
    "dataset['Total1_scores']"
   ]
  },
  {
   "cell_type": "code",
   "execution_count": 105,
   "id": "fff369bc",
   "metadata": {},
   "outputs": [
    {
     "data": {
      "text/plain": [
       "0    784\n",
       "1    784\n",
       "2    784\n",
       "3    784\n",
       "4    784\n",
       "5    784\n",
       "6    784\n",
       "7    784\n",
       "8    784\n",
       "9    784\n",
       "Name: Total2_scores, dtype: int64"
      ]
     },
     "execution_count": 105,
     "metadata": {},
     "output_type": "execute_result"
    }
   ],
   "source": [
    "dataset['Total2_scores']"
   ]
  },
  {
   "cell_type": "code",
   "execution_count": 106,
   "id": "71244894",
   "metadata": {},
   "outputs": [
    {
     "data": {
      "text/plain": [
       "0    783\n",
       "1    783\n",
       "2    783\n",
       "3    783\n",
       "4    783\n",
       "5    783\n",
       "6    783\n",
       "7    783\n",
       "8    783\n",
       "9    783\n",
       "Name: Total3_scores, dtype: int64"
      ]
     },
     "execution_count": 106,
     "metadata": {},
     "output_type": "execute_result"
    }
   ],
   "source": [
    "dataset['Total3_scores']"
   ]
  },
  {
   "cell_type": "code",
   "execution_count": 108,
   "id": "0d2e11f4",
   "metadata": {},
   "outputs": [
    {
     "data": {
      "text/markdown": [
       "The averages between term 2 and 3 are pretty much the same, but term 1 has a slightly lower total score compared to these two."
      ],
      "text/plain": [
       "<IPython.core.display.Markdown object>"
      ]
     },
     "execution_count": 108,
     "metadata": {},
     "output_type": "execute_result"
    }
   ],
   "source": [
    "md(\"The averages between term 2 and 3 are pretty much the same, but term 1 has a slightly lower total score compared to these two.\")\n",
    "\n"
   ]
  },
  {
   "cell_type": "code",
   "execution_count": null,
   "id": "1721aa0a",
   "metadata": {},
   "outputs": [],
   "source": []
  }
 ],
 "metadata": {
  "kernelspec": {
   "display_name": "Python 3 (ipykernel)",
   "language": "python",
   "name": "python3"
  },
  "language_info": {
   "codemirror_mode": {
    "name": "ipython",
    "version": 3
   },
   "file_extension": ".py",
   "mimetype": "text/x-python",
   "name": "python",
   "nbconvert_exporter": "python",
   "pygments_lexer": "ipython3",
   "version": "3.8.6"
  }
 },
 "nbformat": 4,
 "nbformat_minor": 5
}
