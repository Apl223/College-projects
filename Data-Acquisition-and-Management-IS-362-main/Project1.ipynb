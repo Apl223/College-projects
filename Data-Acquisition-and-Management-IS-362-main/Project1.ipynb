{
 "cells": [
  {
   "cell_type": "code",
   "execution_count": 43,
   "id": "f16331c3",
   "metadata": {},
   "outputs": [
    {
     "data": {
      "text/plain": [
       "0    11.091234\n",
       "1     5.150215\n",
       "2     8.620690\n",
       "3    16.859504\n",
       "4    14.212488\n",
       "Name: Alaska_Percent_Delay, dtype: float64"
      ]
     },
     "execution_count": 43,
     "metadata": {},
     "output_type": "execute_result"
    }
   ],
   "source": [
    "import pandas as pd\n",
    "\n",
    "airline_data = pd.read_csv(\"C:/Users/rain/Desktop/Project1.csv\")\n",
    "\n",
    "airline_data['Total_Alaska'] = airline_data['ALASKA_ontime'] + airline_data['ALASKA_delayed']\n",
    "airline_data['Alaska_Percent_Delay'] = (airline_data['ALASKA_delayed'] / airline_data['Total_Alaska']) * 100\n",
    "airline_data['Alaska_Percent_Delay']"
   ]
  },
  {
   "cell_type": "code",
   "execution_count": 44,
   "id": "9350a2ba",
   "metadata": {},
   "outputs": [
    {
     "data": {
      "text/plain": [
       "0    14.426634\n",
       "1     7.897241\n",
       "2    14.508929\n",
       "3    28.730512\n",
       "4    23.282443\n",
       "Name: AMWest_Percent_Delay, dtype: float64"
      ]
     },
     "execution_count": 44,
     "metadata": {},
     "output_type": "execute_result"
    }
   ],
   "source": [
    "airline_data['Total_AMWest'] = airline_data['AMWEST_delayed'] + airline_data['AMWEST_ontime']\n",
    "airline_data['AMWest_Percent_Delay'] = (airline_data['AMWEST_delayed'] / airline_data['Total_AMWest']) * 100\n",
    "airline_data['AMWest_Percent_Delay']"
   ]
  },
  {
   "cell_type": "code",
   "execution_count": 45,
   "id": "bd40f520",
   "metadata": {},
   "outputs": [
    {
     "data": {
      "text/plain": [
       "0     811\n",
       "1    5255\n",
       "2     448\n",
       "3     449\n",
       "4     262\n",
       "Name: Total_AMWest, dtype: int64"
      ]
     },
     "execution_count": 45,
     "metadata": {},
     "output_type": "execute_result"
    }
   ],
   "source": [
    "airline_data['Total_AMWest']"
   ]
  },
  {
   "cell_type": "code",
   "execution_count": 47,
   "id": "aed93957",
   "metadata": {},
   "outputs": [
    {
     "data": {
      "text/plain": [
       "0     559\n",
       "1     233\n",
       "2     232\n",
       "3     605\n",
       "4    2146\n",
       "Name: Total_Alaska, dtype: int64"
      ]
     },
     "execution_count": 47,
     "metadata": {},
     "output_type": "execute_result"
    }
   ],
   "source": [
    "airline_data['Total_Alaska']"
   ]
  },
  {
   "cell_type": "code",
   "execution_count": null,
   "id": "67980274",
   "metadata": {},
   "outputs": [],
   "source": [
    "\"\"\"\n",
    "Although AMWest has more flights (7225 vs 3775), and has contributed to the amount of delays it has, \n",
    "Alaska is better in delays in comparison.\n",
    "\"\"\""
   ]
  }
 ],
 "metadata": {
  "kernelspec": {
   "display_name": "Python 3 (ipykernel)",
   "language": "python",
   "name": "python3"
  },
  "language_info": {
   "codemirror_mode": {
    "name": "ipython",
    "version": 3
   },
   "file_extension": ".py",
   "mimetype": "text/x-python",
   "name": "python",
   "nbconvert_exporter": "python",
   "pygments_lexer": "ipython3",
   "version": "3.8.6"
  }
 },
 "nbformat": 4,
 "nbformat_minor": 5
}
