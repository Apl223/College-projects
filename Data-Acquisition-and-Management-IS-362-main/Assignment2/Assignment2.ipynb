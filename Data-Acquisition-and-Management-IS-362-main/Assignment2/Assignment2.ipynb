{
 "cells": [
  {
   "cell_type": "code",
   "execution_count": 11,
   "id": "a61dd743",
   "metadata": {},
   "outputs": [],
   "source": [
    "\"\"\"\n",
    "Its been awhile since I've done programming with tuples, I understand that they are\n",
    "immutable, but which situations are they often used for and why? I remember one of\n",
    "the assignments I did last semester involved converting arrays to tuples.\n",
    "\"\"\"\n",
    "if __name__ == '__main__':\n",
    "    score = KeepingScore()\n",
    "    game = Game()\n",
    "    players = { 1: Player('Player 1'),\n",
    "                2: Player('Player 2') }"
   ]
  }
 ],
 "metadata": {
  "kernelspec": {
   "display_name": "Python 3 (ipykernel)",
   "language": "python",
   "name": "python3"
  },
  "language_info": {
   "codemirror_mode": {
    "name": "ipython",
    "version": 3
   },
   "file_extension": ".py",
   "mimetype": "text/x-python",
   "name": "python",
   "nbconvert_exporter": "python",
   "pygments_lexer": "ipython3",
   "version": "3.8.6"
  }
 },
 "nbformat": 4,
 "nbformat_minor": 5
}
