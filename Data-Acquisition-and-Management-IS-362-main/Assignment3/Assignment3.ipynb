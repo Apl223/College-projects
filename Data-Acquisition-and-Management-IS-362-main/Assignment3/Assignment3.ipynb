{
 "cells": [
  {
   "cell_type": "code",
   "execution_count": 7,
   "id": "0ecf7a94",
   "metadata": {},
   "outputs": [
    {
     "name": "stdout",
     "output_type": "stream",
     "text": [
      "Day | Miles:\n",
      "0     55\n",
      "1     65\n",
      "2     11\n",
      "3    169\n",
      "dtype: int32\n"
     ]
    }
   ],
   "source": [
    "import pandas as pd\n",
    "\n",
    "import numpy as np\n",
    "\n",
    "cumulativemiles = np.array([55, 120, 131, 300])\n",
    "\n",
    "cumulativeseries = pd.Series(cumulativemiles)\n",
    "\n",
    "# Array to store the miles covered each day\n",
    "\n",
    "eachday = np.array([cumulativeseries[0]])\n",
    "\n",
    "for i in range(1, len(cumulativeseries)):\n",
    "\n",
    "    # Iterate by subtracting the total miles of current day from previous day.\n",
    "\n",
    "    eachday = np.append(eachday, cumulativeseries[i]-cumulativeseries[i-1])\n",
    "\n",
    "print(\"Day | Miles:\")\n",
    "\n",
    "print(pd.Series(eachday))"
   ]
  },
  {
   "cell_type": "code",
   "execution_count": null,
   "id": "cfe2bf49",
   "metadata": {},
   "outputs": [],
   "source": []
  }
 ],
 "metadata": {
  "kernelspec": {
   "display_name": "Python 3 (ipykernel)",
   "language": "python",
   "name": "python3"
  },
  "language_info": {
   "codemirror_mode": {
    "name": "ipython",
    "version": 3
   },
   "file_extension": ".py",
   "mimetype": "text/x-python",
   "name": "python",
   "nbconvert_exporter": "python",
   "pygments_lexer": "ipython3",
   "version": "3.8.6"
  }
 },
 "nbformat": 4,
 "nbformat_minor": 5
}
